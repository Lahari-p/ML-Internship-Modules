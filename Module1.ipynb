{
 "cells": [
  {
   "cell_type": "markdown",
   "metadata": {},
   "source": [
    "## 1. Introduction to the problem"
   ]
  },
  {
   "cell_type": "markdown",
   "metadata": {},
   "source": [
    "### 1.1 Importing necessary libraries and loading stocks data."
   ]
  },
  {
   "cell_type": "code",
   "execution_count": 1,
   "metadata": {},
   "outputs": [
    {
     "data": {
      "text/html": [
       "<div>\n",
       "<style scoped>\n",
       "    .dataframe tbody tr th:only-of-type {\n",
       "        vertical-align: middle;\n",
       "    }\n",
       "\n",
       "    .dataframe tbody tr th {\n",
       "        vertical-align: top;\n",
       "    }\n",
       "\n",
       "    .dataframe thead th {\n",
       "        text-align: right;\n",
       "    }\n",
       "</style>\n",
       "<table border=\"1\" class=\"dataframe\">\n",
       "  <thead>\n",
       "    <tr style=\"text-align: right;\">\n",
       "      <th></th>\n",
       "      <th>Date</th>\n",
       "      <th>Close Price</th>\n",
       "      <th>Open Price</th>\n",
       "      <th>High Price</th>\n",
       "      <th>Low Price</th>\n",
       "      <th>Total Traded Quantity</th>\n",
       "    </tr>\n",
       "  </thead>\n",
       "  <tbody>\n",
       "    <tr>\n",
       "      <td>0</td>\n",
       "      <td>Oct 24, 2019</td>\n",
       "      <td>1,780.78</td>\n",
       "      <td>1,770.78</td>\n",
       "      <td>1,787.97</td>\n",
       "      <td>1,760.78</td>\n",
       "      <td>5.20M</td>\n",
       "    </tr>\n",
       "    <tr>\n",
       "      <td>1</td>\n",
       "      <td>Oct 23, 2019</td>\n",
       "      <td>1,762.17</td>\n",
       "      <td>1,761.30</td>\n",
       "      <td>1,770.05</td>\n",
       "      <td>1,742.00</td>\n",
       "      <td>2.19M</td>\n",
       "    </tr>\n",
       "    <tr>\n",
       "      <td>2</td>\n",
       "      <td>Oct 22, 2019</td>\n",
       "      <td>1,765.73</td>\n",
       "      <td>1,788.15</td>\n",
       "      <td>1,789.78</td>\n",
       "      <td>1,762.00</td>\n",
       "      <td>2.23M</td>\n",
       "    </tr>\n",
       "    <tr>\n",
       "      <td>3</td>\n",
       "      <td>Oct 21, 2019</td>\n",
       "      <td>1,785.66</td>\n",
       "      <td>1,769.66</td>\n",
       "      <td>1,785.88</td>\n",
       "      <td>1,765.00</td>\n",
       "      <td>2.22M</td>\n",
       "    </tr>\n",
       "    <tr>\n",
       "      <td>4</td>\n",
       "      <td>Oct 18, 2019</td>\n",
       "      <td>1,757.51</td>\n",
       "      <td>1,787.80</td>\n",
       "      <td>1,793.98</td>\n",
       "      <td>1,749.20</td>\n",
       "      <td>3.37M</td>\n",
       "    </tr>\n",
       "  </tbody>\n",
       "</table>\n",
       "</div>"
      ],
      "text/plain": [
       "           Date Close Price Open Price High Price Low Price  \\\n",
       "0  Oct 24, 2019    1,780.78   1,770.78   1,787.97  1,760.78   \n",
       "1  Oct 23, 2019    1,762.17   1,761.30   1,770.05  1,742.00   \n",
       "2  Oct 22, 2019    1,765.73   1,788.15   1,789.78  1,762.00   \n",
       "3  Oct 21, 2019    1,785.66   1,769.66   1,785.88  1,765.00   \n",
       "4  Oct 18, 2019    1,757.51   1,787.80   1,793.98  1,749.20   \n",
       "\n",
       "  Total Traded Quantity  \n",
       "0                 5.20M  \n",
       "1                 2.19M  \n",
       "2                 2.23M  \n",
       "3                 2.22M  \n",
       "4                 3.37M  "
      ]
     },
     "execution_count": 1,
     "metadata": {},
     "output_type": "execute_result"
    }
   ],
   "source": [
    "import pandas as pd\n",
    "stock = pd.read_csv(\"D:/Datasets/AMZN.csv\")\n",
    "stock.head()"
   ]
  },
  {
   "cell_type": "markdown",
   "metadata": {},
   "source": [
    "Checking the dimensions of data."
   ]
  },
  {
   "cell_type": "code",
   "execution_count": 2,
   "metadata": {},
   "outputs": [
    {
     "data": {
      "text/plain": [
       "(503, 6)"
      ]
     },
     "execution_count": 2,
     "metadata": {},
     "output_type": "execute_result"
    }
   ],
   "source": [
    "stock.shape"
   ]
  },
  {
   "cell_type": "markdown",
   "metadata": {},
   "source": [
    "Checking the presence of Null values."
   ]
  },
  {
   "cell_type": "code",
   "execution_count": 3,
   "metadata": {},
   "outputs": [
    {
     "data": {
      "text/plain": [
       "Date                     0\n",
       "Close Price              0\n",
       "Open Price               0\n",
       "High Price               0\n",
       "Low Price                0\n",
       "Total Traded Quantity    0\n",
       "dtype: int64"
      ]
     },
     "execution_count": 3,
     "metadata": {},
     "output_type": "execute_result"
    }
   ],
   "source": [
    "stock.isnull().sum()"
   ]
  },
  {
   "cell_type": "markdown",
   "metadata": {},
   "source": [
    "Finding number of categories in each column."
   ]
  },
  {
   "cell_type": "code",
   "execution_count": 4,
   "metadata": {},
   "outputs": [
    {
     "data": {
      "text/plain": [
       "Date                     503\n",
       "Close Price              496\n",
       "Open Price               487\n",
       "High Price               496\n",
       "Low Price                498\n",
       "Total Traded Quantity    343\n",
       "dtype: int64"
      ]
     },
     "execution_count": 4,
     "metadata": {},
     "output_type": "execute_result"
    }
   ],
   "source": [
    "stock.nunique()"
   ]
  },
  {
   "cell_type": "markdown",
   "metadata": {},
   "source": [
    "Displying the basic statistical data."
   ]
  },
  {
   "cell_type": "code",
   "execution_count": 5,
   "metadata": {},
   "outputs": [
    {
     "data": {
      "text/html": [
       "<div>\n",
       "<style scoped>\n",
       "    .dataframe tbody tr th:only-of-type {\n",
       "        vertical-align: middle;\n",
       "    }\n",
       "\n",
       "    .dataframe tbody tr th {\n",
       "        vertical-align: top;\n",
       "    }\n",
       "\n",
       "    .dataframe thead th {\n",
       "        text-align: right;\n",
       "    }\n",
       "</style>\n",
       "<table border=\"1\" class=\"dataframe\">\n",
       "  <thead>\n",
       "    <tr style=\"text-align: right;\">\n",
       "      <th></th>\n",
       "      <th>Date</th>\n",
       "      <th>Close Price</th>\n",
       "      <th>Open Price</th>\n",
       "      <th>High Price</th>\n",
       "      <th>Low Price</th>\n",
       "      <th>Total Traded Quantity</th>\n",
       "    </tr>\n",
       "  </thead>\n",
       "  <tbody>\n",
       "    <tr>\n",
       "      <td>count</td>\n",
       "      <td>503</td>\n",
       "      <td>503</td>\n",
       "      <td>503</td>\n",
       "      <td>503</td>\n",
       "      <td>503</td>\n",
       "      <td>503</td>\n",
       "    </tr>\n",
       "    <tr>\n",
       "      <td>unique</td>\n",
       "      <td>503</td>\n",
       "      <td>496</td>\n",
       "      <td>487</td>\n",
       "      <td>496</td>\n",
       "      <td>498</td>\n",
       "      <td>343</td>\n",
       "    </tr>\n",
       "    <tr>\n",
       "      <td>top</td>\n",
       "      <td>Sep 30, 2019</td>\n",
       "      <td>1,886.52</td>\n",
       "      <td>1,623.00</td>\n",
       "      <td>1,956.00</td>\n",
       "      <td>1,626.01</td>\n",
       "      <td>4.86M</td>\n",
       "    </tr>\n",
       "    <tr>\n",
       "      <td>freq</td>\n",
       "      <td>1</td>\n",
       "      <td>2</td>\n",
       "      <td>3</td>\n",
       "      <td>2</td>\n",
       "      <td>2</td>\n",
       "      <td>5</td>\n",
       "    </tr>\n",
       "  </tbody>\n",
       "</table>\n",
       "</div>"
      ],
      "text/plain": [
       "                Date Close Price Open Price High Price Low Price  \\\n",
       "count            503         503        503        503       503   \n",
       "unique           503         496        487        496       498   \n",
       "top     Sep 30, 2019    1,886.52   1,623.00   1,956.00  1,626.01   \n",
       "freq               1           2          3          2         2   \n",
       "\n",
       "       Total Traded Quantity  \n",
       "count                    503  \n",
       "unique                   343  \n",
       "top                    4.86M  \n",
       "freq                       5  "
      ]
     },
     "execution_count": 5,
     "metadata": {},
     "output_type": "execute_result"
    }
   ],
   "source": [
    "stock.describe()"
   ]
  },
  {
   "cell_type": "markdown",
   "metadata": {},
   "source": [
    "#### By observing the above statistics it is clear that something is not right ! Let's check the datatypes of each variable."
   ]
  },
  {
   "cell_type": "code",
   "execution_count": 6,
   "metadata": {},
   "outputs": [
    {
     "data": {
      "text/plain": [
       "Date                     object\n",
       "Close Price              object\n",
       "Open Price               object\n",
       "High Price               object\n",
       "Low Price                object\n",
       "Total Traded Quantity    object\n",
       "dtype: object"
      ]
     },
     "execution_count": 6,
     "metadata": {},
     "output_type": "execute_result"
    }
   ],
   "source": [
    "stock.dtypes"
   ]
  },
  {
   "cell_type": "markdown",
   "metadata": {},
   "source": [
    "#### Oops! the datatype of price variables is given as object and the date variable as also object."
   ]
  },
  {
   "cell_type": "code",
   "execution_count": 7,
   "metadata": {},
   "outputs": [],
   "source": [
    "stock['Date'] = stock['Date'].astype('datetime64')\n",
    "stock = stock.replace([',','M'],'',regex=True)"
   ]
  },
  {
   "cell_type": "markdown",
   "metadata": {},
   "source": [
    "##### What we have done above is removing the extra unnecessary characters in the cells of variables which may further cause errors while changing the datatype of variables."
   ]
  },
  {
   "cell_type": "markdown",
   "metadata": {},
   "source": [
    "Let's change the variables to their specific type and check the result."
   ]
  },
  {
   "cell_type": "code",
   "execution_count": 8,
   "metadata": {},
   "outputs": [],
   "source": [
    "stock['Close Price'] = stock['Close Price'].astype('float64')\n",
    "stock['Open Price'] = stock['Open Price'].astype('float64')\n",
    "stock['High Price'] = stock['High Price'].astype('float64')\n",
    "stock['Low Price'] = stock['Low Price'].astype('float64')\n",
    "stock['Total Traded Quantity'] = stock['Total Traded Quantity'].astype('float64')"
   ]
  },
  {
   "cell_type": "code",
   "execution_count": 9,
   "metadata": {},
   "outputs": [
    {
     "data": {
      "text/html": [
       "<div>\n",
       "<style scoped>\n",
       "    .dataframe tbody tr th:only-of-type {\n",
       "        vertical-align: middle;\n",
       "    }\n",
       "\n",
       "    .dataframe tbody tr th {\n",
       "        vertical-align: top;\n",
       "    }\n",
       "\n",
       "    .dataframe thead th {\n",
       "        text-align: right;\n",
       "    }\n",
       "</style>\n",
       "<table border=\"1\" class=\"dataframe\">\n",
       "  <thead>\n",
       "    <tr style=\"text-align: right;\">\n",
       "      <th></th>\n",
       "      <th>Close Price</th>\n",
       "      <th>Open Price</th>\n",
       "      <th>High Price</th>\n",
       "      <th>Low Price</th>\n",
       "      <th>Total Traded Quantity</th>\n",
       "    </tr>\n",
       "  </thead>\n",
       "  <tbody>\n",
       "    <tr>\n",
       "      <td>count</td>\n",
       "      <td>503.000000</td>\n",
       "      <td>503.000000</td>\n",
       "      <td>503.000000</td>\n",
       "      <td>503.000000</td>\n",
       "      <td>503.000000</td>\n",
       "    </tr>\n",
       "    <tr>\n",
       "      <td>mean</td>\n",
       "      <td>1657.415964</td>\n",
       "      <td>1658.401809</td>\n",
       "      <td>1674.438171</td>\n",
       "      <td>1638.693459</td>\n",
       "      <td>4.820656</td>\n",
       "    </tr>\n",
       "    <tr>\n",
       "      <td>std</td>\n",
       "      <td>237.374706</td>\n",
       "      <td>238.679074</td>\n",
       "      <td>238.361157</td>\n",
       "      <td>237.377795</td>\n",
       "      <td>2.350537</td>\n",
       "    </tr>\n",
       "    <tr>\n",
       "      <td>min</td>\n",
       "      <td>972.430000</td>\n",
       "      <td>978.000000</td>\n",
       "      <td>982.900000</td>\n",
       "      <td>966.240000</td>\n",
       "      <td>1.590000</td>\n",
       "    </tr>\n",
       "    <tr>\n",
       "      <td>25%</td>\n",
       "      <td>1534.030000</td>\n",
       "      <td>1541.495000</td>\n",
       "      <td>1559.095000</td>\n",
       "      <td>1509.605000</td>\n",
       "      <td>3.135000</td>\n",
       "    </tr>\n",
       "    <tr>\n",
       "      <td>50%</td>\n",
       "      <td>1698.750000</td>\n",
       "      <td>1702.950000</td>\n",
       "      <td>1715.270000</td>\n",
       "      <td>1680.890000</td>\n",
       "      <td>4.270000</td>\n",
       "    </tr>\n",
       "    <tr>\n",
       "      <td>75%</td>\n",
       "      <td>1832.310000</td>\n",
       "      <td>1832.990000</td>\n",
       "      <td>1845.560000</td>\n",
       "      <td>1816.800000</td>\n",
       "      <td>5.820000</td>\n",
       "    </tr>\n",
       "    <tr>\n",
       "      <td>max</td>\n",
       "      <td>2039.510000</td>\n",
       "      <td>2038.110000</td>\n",
       "      <td>2050.500000</td>\n",
       "      <td>2013.000000</td>\n",
       "      <td>16.570000</td>\n",
       "    </tr>\n",
       "  </tbody>\n",
       "</table>\n",
       "</div>"
      ],
      "text/plain": [
       "       Close Price   Open Price   High Price    Low Price  \\\n",
       "count   503.000000   503.000000   503.000000   503.000000   \n",
       "mean   1657.415964  1658.401809  1674.438171  1638.693459   \n",
       "std     237.374706   238.679074   238.361157   237.377795   \n",
       "min     972.430000   978.000000   982.900000   966.240000   \n",
       "25%    1534.030000  1541.495000  1559.095000  1509.605000   \n",
       "50%    1698.750000  1702.950000  1715.270000  1680.890000   \n",
       "75%    1832.310000  1832.990000  1845.560000  1816.800000   \n",
       "max    2039.510000  2038.110000  2050.500000  2013.000000   \n",
       "\n",
       "       Total Traded Quantity  \n",
       "count             503.000000  \n",
       "mean                4.820656  \n",
       "std                 2.350537  \n",
       "min                 1.590000  \n",
       "25%                 3.135000  \n",
       "50%                 4.270000  \n",
       "75%                 5.820000  \n",
       "max                16.570000  "
      ]
     },
     "execution_count": 9,
     "metadata": {},
     "output_type": "execute_result"
    }
   ],
   "source": [
    "stock.describe()"
   ]
  },
  {
   "cell_type": "markdown",
   "metadata": {},
   "source": [
    "Now the statistics are meaningful !"
   ]
  },
  {
   "cell_type": "markdown",
   "metadata": {},
   "source": [
    "### 1.2 Calculate the min, max, and average  price of last 90 days."
   ]
  },
  {
   "cell_type": "code",
   "execution_count": 10,
   "metadata": {},
   "outputs": [
    {
     "data": {
      "text/plain": [
       "503"
      ]
     },
     "execution_count": 10,
     "metadata": {},
     "output_type": "execute_result"
    }
   ],
   "source": [
    "len(stock.Date.unique())"
   ]
  },
  {
   "cell_type": "code",
   "execution_count": 11,
   "metadata": {},
   "outputs": [
    {
     "data": {
      "text/html": [
       "<div>\n",
       "<style scoped>\n",
       "    .dataframe tbody tr th:only-of-type {\n",
       "        vertical-align: middle;\n",
       "    }\n",
       "\n",
       "    .dataframe tbody tr th {\n",
       "        vertical-align: top;\n",
       "    }\n",
       "\n",
       "    .dataframe thead th {\n",
       "        text-align: right;\n",
       "    }\n",
       "</style>\n",
       "<table border=\"1\" class=\"dataframe\">\n",
       "  <thead>\n",
       "    <tr style=\"text-align: right;\">\n",
       "      <th></th>\n",
       "      <th>Date</th>\n",
       "      <th>Close Price</th>\n",
       "      <th>Open Price</th>\n",
       "      <th>High Price</th>\n",
       "      <th>Low Price</th>\n",
       "      <th>Total Traded Quantity</th>\n",
       "    </tr>\n",
       "  </thead>\n",
       "  <tbody>\n",
       "    <tr>\n",
       "      <td>0</td>\n",
       "      <td>2019-10-24</td>\n",
       "      <td>1780.78</td>\n",
       "      <td>1770.78</td>\n",
       "      <td>1787.97</td>\n",
       "      <td>1760.78</td>\n",
       "      <td>5.20</td>\n",
       "    </tr>\n",
       "    <tr>\n",
       "      <td>1</td>\n",
       "      <td>2019-10-23</td>\n",
       "      <td>1762.17</td>\n",
       "      <td>1761.30</td>\n",
       "      <td>1770.05</td>\n",
       "      <td>1742.00</td>\n",
       "      <td>2.19</td>\n",
       "    </tr>\n",
       "    <tr>\n",
       "      <td>2</td>\n",
       "      <td>2019-10-22</td>\n",
       "      <td>1765.73</td>\n",
       "      <td>1788.15</td>\n",
       "      <td>1789.78</td>\n",
       "      <td>1762.00</td>\n",
       "      <td>2.23</td>\n",
       "    </tr>\n",
       "    <tr>\n",
       "      <td>3</td>\n",
       "      <td>2019-10-21</td>\n",
       "      <td>1785.66</td>\n",
       "      <td>1769.66</td>\n",
       "      <td>1785.88</td>\n",
       "      <td>1765.00</td>\n",
       "      <td>2.22</td>\n",
       "    </tr>\n",
       "    <tr>\n",
       "      <td>4</td>\n",
       "      <td>2019-10-18</td>\n",
       "      <td>1757.51</td>\n",
       "      <td>1787.80</td>\n",
       "      <td>1793.98</td>\n",
       "      <td>1749.20</td>\n",
       "      <td>3.37</td>\n",
       "    </tr>\n",
       "    <tr>\n",
       "      <td>5</td>\n",
       "      <td>2019-10-17</td>\n",
       "      <td>1787.48</td>\n",
       "      <td>1796.49</td>\n",
       "      <td>1798.85</td>\n",
       "      <td>1782.02</td>\n",
       "      <td>2.71</td>\n",
       "    </tr>\n",
       "    <tr>\n",
       "      <td>6</td>\n",
       "      <td>2019-10-16</td>\n",
       "      <td>1777.43</td>\n",
       "      <td>1773.33</td>\n",
       "      <td>1786.24</td>\n",
       "      <td>1770.52</td>\n",
       "      <td>2.80</td>\n",
       "    </tr>\n",
       "    <tr>\n",
       "      <td>7</td>\n",
       "      <td>2019-10-15</td>\n",
       "      <td>1767.38</td>\n",
       "      <td>1742.14</td>\n",
       "      <td>1776.45</td>\n",
       "      <td>1740.62</td>\n",
       "      <td>3.13</td>\n",
       "    </tr>\n",
       "    <tr>\n",
       "      <td>8</td>\n",
       "      <td>2019-10-14</td>\n",
       "      <td>1736.43</td>\n",
       "      <td>1728.91</td>\n",
       "      <td>1741.89</td>\n",
       "      <td>1722.00</td>\n",
       "      <td>1.93</td>\n",
       "    </tr>\n",
       "    <tr>\n",
       "      <td>9</td>\n",
       "      <td>2019-10-11</td>\n",
       "      <td>1731.92</td>\n",
       "      <td>1742.92</td>\n",
       "      <td>1745.45</td>\n",
       "      <td>1729.86</td>\n",
       "      <td>3.28</td>\n",
       "    </tr>\n",
       "  </tbody>\n",
       "</table>\n",
       "</div>"
      ],
      "text/plain": [
       "        Date  Close Price  Open Price  High Price  Low Price  \\\n",
       "0 2019-10-24      1780.78     1770.78     1787.97    1760.78   \n",
       "1 2019-10-23      1762.17     1761.30     1770.05    1742.00   \n",
       "2 2019-10-22      1765.73     1788.15     1789.78    1762.00   \n",
       "3 2019-10-21      1785.66     1769.66     1785.88    1765.00   \n",
       "4 2019-10-18      1757.51     1787.80     1793.98    1749.20   \n",
       "5 2019-10-17      1787.48     1796.49     1798.85    1782.02   \n",
       "6 2019-10-16      1777.43     1773.33     1786.24    1770.52   \n",
       "7 2019-10-15      1767.38     1742.14     1776.45    1740.62   \n",
       "8 2019-10-14      1736.43     1728.91     1741.89    1722.00   \n",
       "9 2019-10-11      1731.92     1742.92     1745.45    1729.86   \n",
       "\n",
       "   Total Traded Quantity  \n",
       "0                   5.20  \n",
       "1                   2.19  \n",
       "2                   2.23  \n",
       "3                   2.22  \n",
       "4                   3.37  \n",
       "5                   2.71  \n",
       "6                   2.80  \n",
       "7                   3.13  \n",
       "8                   1.93  \n",
       "9                   3.28  "
      ]
     },
     "execution_count": 11,
     "metadata": {},
     "output_type": "execute_result"
    }
   ],
   "source": [
    "stock.head(10)"
   ]
  },
  {
   "cell_type": "markdown",
   "metadata": {},
   "source": [
    "#### That clearly mean that dates are in sorted order ...so in order calculate the max, min, and average of last 90 days we can make calculations on the top 90 observations."
   ]
  },
  {
   "cell_type": "code",
   "execution_count": 12,
   "metadata": {},
   "outputs": [
    {
     "name": "stdout",
     "output_type": "stream",
     "text": [
      "Max closing price for the past 90 days:  2020.99\n",
      "Min closing price for the past 90 days:  1705.51\n",
      "Average closing price for the past 90 days:  1837.3786666666665\n"
     ]
    }
   ],
   "source": [
    "Top90 = stock.iloc[0:90,1]\n",
    "print(\"Max closing price for the past 90 days: \",Top90.max())\n",
    "print(\"Min closing price for the past 90 days: \",Top90.min())\n",
    "print(\"Average closing price for the past 90 days: \",Top90.mean())"
   ]
  },
  {
   "cell_type": "markdown",
   "metadata": {},
   "source": [
    "### 1.3 Analyse the datatypes of each column."
   ]
  },
  {
   "cell_type": "code",
   "execution_count": 13,
   "metadata": {},
   "outputs": [
    {
     "data": {
      "text/plain": [
       "Date                     datetime64[ns]\n",
       "Close Price                     float64\n",
       "Open Price                      float64\n",
       "High Price                      float64\n",
       "Low Price                       float64\n",
       "Total Traded Quantity           float64\n",
       "dtype: object"
      ]
     },
     "execution_count": 13,
     "metadata": {},
     "output_type": "execute_result"
    }
   ],
   "source": [
    "stock.dtypes"
   ]
  },
  {
   "cell_type": "code",
   "execution_count": 14,
   "metadata": {},
   "outputs": [
    {
     "data": {
      "text/plain": [
       "Timedelta('729 days 00:00:00')"
      ]
     },
     "execution_count": 14,
     "metadata": {},
     "output_type": "execute_result"
    }
   ],
   "source": [
    "stock.Date.max() - stock.Date.min()"
   ]
  },
  {
   "cell_type": "markdown",
   "metadata": {},
   "source": [
    "**From the above result it is clear that the data is about 2 years of stocks of Amazon**"
   ]
  },
  {
   "cell_type": "markdown",
   "metadata": {},
   "source": [
    "### 1.4 Calculating monthwise VWAP (Volume Weighted Average Price)"
   ]
  },
  {
   "cell_type": "code",
   "execution_count": 15,
   "metadata": {},
   "outputs": [
    {
     "data": {
      "text/html": [
       "<div>\n",
       "<style scoped>\n",
       "    .dataframe tbody tr th:only-of-type {\n",
       "        vertical-align: middle;\n",
       "    }\n",
       "\n",
       "    .dataframe tbody tr th {\n",
       "        vertical-align: top;\n",
       "    }\n",
       "\n",
       "    .dataframe thead th {\n",
       "        text-align: right;\n",
       "    }\n",
       "</style>\n",
       "<table border=\"1\" class=\"dataframe\">\n",
       "  <thead>\n",
       "    <tr style=\"text-align: right;\">\n",
       "      <th></th>\n",
       "      <th>Date</th>\n",
       "      <th>Close Price</th>\n",
       "      <th>Open Price</th>\n",
       "      <th>High Price</th>\n",
       "      <th>Low Price</th>\n",
       "      <th>Total Traded Quantity</th>\n",
       "      <th>Month</th>\n",
       "      <th>Year</th>\n",
       "    </tr>\n",
       "  </thead>\n",
       "  <tbody>\n",
       "    <tr>\n",
       "      <td>0</td>\n",
       "      <td>2019-10-24</td>\n",
       "      <td>1780.78</td>\n",
       "      <td>1770.78</td>\n",
       "      <td>1787.97</td>\n",
       "      <td>1760.78</td>\n",
       "      <td>5.20</td>\n",
       "      <td>10</td>\n",
       "      <td>2019</td>\n",
       "    </tr>\n",
       "    <tr>\n",
       "      <td>1</td>\n",
       "      <td>2019-10-23</td>\n",
       "      <td>1762.17</td>\n",
       "      <td>1761.30</td>\n",
       "      <td>1770.05</td>\n",
       "      <td>1742.00</td>\n",
       "      <td>2.19</td>\n",
       "      <td>10</td>\n",
       "      <td>2019</td>\n",
       "    </tr>\n",
       "    <tr>\n",
       "      <td>2</td>\n",
       "      <td>2019-10-22</td>\n",
       "      <td>1765.73</td>\n",
       "      <td>1788.15</td>\n",
       "      <td>1789.78</td>\n",
       "      <td>1762.00</td>\n",
       "      <td>2.23</td>\n",
       "      <td>10</td>\n",
       "      <td>2019</td>\n",
       "    </tr>\n",
       "    <tr>\n",
       "      <td>3</td>\n",
       "      <td>2019-10-21</td>\n",
       "      <td>1785.66</td>\n",
       "      <td>1769.66</td>\n",
       "      <td>1785.88</td>\n",
       "      <td>1765.00</td>\n",
       "      <td>2.22</td>\n",
       "      <td>10</td>\n",
       "      <td>2019</td>\n",
       "    </tr>\n",
       "    <tr>\n",
       "      <td>4</td>\n",
       "      <td>2019-10-18</td>\n",
       "      <td>1757.51</td>\n",
       "      <td>1787.80</td>\n",
       "      <td>1793.98</td>\n",
       "      <td>1749.20</td>\n",
       "      <td>3.37</td>\n",
       "      <td>10</td>\n",
       "      <td>2019</td>\n",
       "    </tr>\n",
       "  </tbody>\n",
       "</table>\n",
       "</div>"
      ],
      "text/plain": [
       "        Date  Close Price  Open Price  High Price  Low Price  \\\n",
       "0 2019-10-24      1780.78     1770.78     1787.97    1760.78   \n",
       "1 2019-10-23      1762.17     1761.30     1770.05    1742.00   \n",
       "2 2019-10-22      1765.73     1788.15     1789.78    1762.00   \n",
       "3 2019-10-21      1785.66     1769.66     1785.88    1765.00   \n",
       "4 2019-10-18      1757.51     1787.80     1793.98    1749.20   \n",
       "\n",
       "   Total Traded Quantity  Month  Year  \n",
       "0                   5.20     10  2019  \n",
       "1                   2.19     10  2019  \n",
       "2                   2.23     10  2019  \n",
       "3                   2.22     10  2019  \n",
       "4                   3.37     10  2019  "
      ]
     },
     "execution_count": 15,
     "metadata": {},
     "output_type": "execute_result"
    }
   ],
   "source": [
    "stock['Month'] = stock.Date.dt.month\n",
    "stock['Year'] = stock.Date.dt.year\n",
    "stock.head()"
   ]
  },
  {
   "cell_type": "code",
   "execution_count": 16,
   "metadata": {},
   "outputs": [
    {
     "data": {
      "text/plain": [
       "Month    12\n",
       "Year      3\n",
       "dtype: int64"
      ]
     },
     "execution_count": 16,
     "metadata": {},
     "output_type": "execute_result"
    }
   ],
   "source": [
    "stock[['Month','Year']].nunique()"
   ]
  },
  {
   "cell_type": "code",
   "execution_count": 17,
   "metadata": {},
   "outputs": [],
   "source": [
    "month_grouped = stock.groupby(['Month','Year'])['Close Price','Open Price','High Price','Low Price','Total Traded Quantity']"
   ]
  },
  {
   "cell_type": "markdown",
   "metadata": {},
   "source": [
    "**Formula for VWAP : sum(price * volume)/sum(volume)**\n",
    "\n",
    "`price = closing price` unless stated otherwise."
   ]
  },
  {
   "cell_type": "code",
   "execution_count": 18,
   "metadata": {
    "scrolled": true
   },
   "outputs": [
    {
     "data": {
      "text/html": [
       "<div>\n",
       "<style scoped>\n",
       "    .dataframe tbody tr th:only-of-type {\n",
       "        vertical-align: middle;\n",
       "    }\n",
       "\n",
       "    .dataframe tbody tr th {\n",
       "        vertical-align: top;\n",
       "    }\n",
       "\n",
       "    .dataframe thead th {\n",
       "        text-align: right;\n",
       "    }\n",
       "</style>\n",
       "<table border=\"1\" class=\"dataframe\">\n",
       "  <thead>\n",
       "    <tr style=\"text-align: right;\">\n",
       "      <th></th>\n",
       "      <th></th>\n",
       "      <th>vwap</th>\n",
       "    </tr>\n",
       "    <tr>\n",
       "      <th>Month</th>\n",
       "      <th>Year</th>\n",
       "      <th></th>\n",
       "    </tr>\n",
       "  </thead>\n",
       "  <tbody>\n",
       "    <tr>\n",
       "      <td rowspan=\"2\" valign=\"top\">1</td>\n",
       "      <td>2018</td>\n",
       "      <td>1325.024888</td>\n",
       "    </tr>\n",
       "    <tr>\n",
       "      <td>2019</td>\n",
       "      <td>1638.559296</td>\n",
       "    </tr>\n",
       "    <tr>\n",
       "      <td rowspan=\"2\" valign=\"top\">2</td>\n",
       "      <td>2018</td>\n",
       "      <td>1427.441359</td>\n",
       "    </tr>\n",
       "    <tr>\n",
       "      <td>2019</td>\n",
       "      <td>1625.996595</td>\n",
       "    </tr>\n",
       "    <tr>\n",
       "      <td rowspan=\"2\" valign=\"top\">3</td>\n",
       "      <td>2018</td>\n",
       "      <td>1524.642924</td>\n",
       "    </tr>\n",
       "    <tr>\n",
       "      <td>2019</td>\n",
       "      <td>1726.277252</td>\n",
       "    </tr>\n",
       "    <tr>\n",
       "      <td rowspan=\"2\" valign=\"top\">4</td>\n",
       "      <td>2018</td>\n",
       "      <td>1470.974160</td>\n",
       "    </tr>\n",
       "    <tr>\n",
       "      <td>2019</td>\n",
       "      <td>1873.321533</td>\n",
       "    </tr>\n",
       "    <tr>\n",
       "      <td rowspan=\"2\" valign=\"top\">5</td>\n",
       "      <td>2018</td>\n",
       "      <td>1593.885567</td>\n",
       "    </tr>\n",
       "    <tr>\n",
       "      <td>2019</td>\n",
       "      <td>1873.657057</td>\n",
       "    </tr>\n",
       "    <tr>\n",
       "      <td rowspan=\"2\" valign=\"top\">6</td>\n",
       "      <td>2018</td>\n",
       "      <td>1698.346756</td>\n",
       "    </tr>\n",
       "    <tr>\n",
       "      <td>2019</td>\n",
       "      <td>1831.264732</td>\n",
       "    </tr>\n",
       "    <tr>\n",
       "      <td rowspan=\"2\" valign=\"top\">7</td>\n",
       "      <td>2018</td>\n",
       "      <td>1795.434753</td>\n",
       "    </tr>\n",
       "    <tr>\n",
       "      <td>2019</td>\n",
       "      <td>1964.524036</td>\n",
       "    </tr>\n",
       "    <tr>\n",
       "      <td rowspan=\"2\" valign=\"top\">8</td>\n",
       "      <td>2018</td>\n",
       "      <td>1904.010648</td>\n",
       "    </tr>\n",
       "    <tr>\n",
       "      <td>2019</td>\n",
       "      <td>1792.626750</td>\n",
       "    </tr>\n",
       "    <tr>\n",
       "      <td rowspan=\"2\" valign=\"top\">9</td>\n",
       "      <td>2018</td>\n",
       "      <td>1965.231770</td>\n",
       "    </tr>\n",
       "    <tr>\n",
       "      <td>2019</td>\n",
       "      <td>1793.628218</td>\n",
       "    </tr>\n",
       "    <tr>\n",
       "      <td rowspan=\"3\" valign=\"top\">10</td>\n",
       "      <td>2017</td>\n",
       "      <td>1071.787264</td>\n",
       "    </tr>\n",
       "    <tr>\n",
       "      <td>2018</td>\n",
       "      <td>1745.244970</td>\n",
       "    </tr>\n",
       "    <tr>\n",
       "      <td>2019</td>\n",
       "      <td>1747.903964</td>\n",
       "    </tr>\n",
       "    <tr>\n",
       "      <td rowspan=\"2\" valign=\"top\">11</td>\n",
       "      <td>2017</td>\n",
       "      <td>1145.640584</td>\n",
       "    </tr>\n",
       "    <tr>\n",
       "      <td>2018</td>\n",
       "      <td>1626.608103</td>\n",
       "    </tr>\n",
       "    <tr>\n",
       "      <td rowspan=\"2\" valign=\"top\">12</td>\n",
       "      <td>2017</td>\n",
       "      <td>1165.894982</td>\n",
       "    </tr>\n",
       "    <tr>\n",
       "      <td>2018</td>\n",
       "      <td>1544.850789</td>\n",
       "    </tr>\n",
       "  </tbody>\n",
       "</table>\n",
       "</div>"
      ],
      "text/plain": [
       "                   vwap\n",
       "Month Year             \n",
       "1     2018  1325.024888\n",
       "      2019  1638.559296\n",
       "2     2018  1427.441359\n",
       "      2019  1625.996595\n",
       "3     2018  1524.642924\n",
       "      2019  1726.277252\n",
       "4     2018  1470.974160\n",
       "      2019  1873.321533\n",
       "5     2018  1593.885567\n",
       "      2019  1873.657057\n",
       "6     2018  1698.346756\n",
       "      2019  1831.264732\n",
       "7     2018  1795.434753\n",
       "      2019  1964.524036\n",
       "8     2018  1904.010648\n",
       "      2019  1792.626750\n",
       "9     2018  1965.231770\n",
       "      2019  1793.628218\n",
       "10    2017  1071.787264\n",
       "      2018  1745.244970\n",
       "      2019  1747.903964\n",
       "11    2017  1145.640584\n",
       "      2018  1626.608103\n",
       "12    2017  1165.894982\n",
       "      2018  1544.850789"
      ]
     },
     "execution_count": 18,
     "metadata": {},
     "output_type": "execute_result"
    }
   ],
   "source": [
    "def f(x):\n",
    "    d = {} \n",
    "    d['vwap'] = ((x['Close Price'] * x['Total Traded Quantity']).sum())/(x['Total Traded Quantity'].sum())\n",
    "    return pd.Series(d)\n",
    "\n",
    "month_grouped.apply(f)"
   ]
  },
  {
   "cell_type": "markdown",
   "metadata": {},
   "source": [
    "### 1.5 Define functions for calculating average price and profit/loss percentage."
   ]
  },
  {
   "cell_type": "markdown",
   "metadata": {},
   "source": [
    "#### 1.5.1 Function for calculating average price of last N days. "
   ]
  },
  {
   "cell_type": "code",
   "execution_count": 19,
   "metadata": {},
   "outputs": [
    {
     "name": "stdout",
     "output_type": "stream",
     "text": [
      "The average price for last 1 week is 1773.8228571428572\n",
      "The average price for last 2 weeks is 1752.350714285714\n",
      "The average price for last 1 month is 1761.5049999999999\n",
      "The average price for last 3 months is 1837.3786666666665\n",
      "The average price for last 6 months is 1813.4337777777773\n",
      "The average price for last 1 year is 1772.908219178082\n"
     ]
    }
   ],
   "source": [
    "def avg(N):\n",
    "    return stock['Close Price'].head(N).mean()\n",
    "print(\"The average price for last 1 week is {}\".format(avg(7)))\n",
    "print(\"The average price for last 2 weeks is {}\".format(avg(14)))\n",
    "print(\"The average price for last 1 month is {}\".format(avg(30)))\n",
    "print(\"The average price for last 3 months is {}\".format(avg(90)))\n",
    "print(\"The average price for last 6 months is {}\".format(avg(180)))\n",
    "print(\"The average price for last 1 year is {}\".format(avg(365)))"
   ]
  },
  {
   "cell_type": "markdown",
   "metadata": {},
   "source": [
    "#### 1.5.2 Function for calculating profit/loss percentage."
   ]
  },
  {
   "cell_type": "code",
   "execution_count": 20,
   "metadata": {},
   "outputs": [],
   "source": [
    "#Let's make a column that contain profit/loss percentage of each day.\n",
    "pf ={}\n",
    "pf['Profit/Loss'] = (stock['Close Price'] - stock['Close Price'].shift(1))/stock['Close Price']"
   ]
  },
  {
   "cell_type": "code",
   "execution_count": 21,
   "metadata": {},
   "outputs": [
    {
     "name": "stdout",
     "output_type": "stream",
     "text": [
      "The profit/loss percentage for last 1 week is -0.0022881285225075064\n",
      "The profit/loss percentage for last 2 weeks is -0.028169128073749362\n",
      "The profit/loss percentage for last 1 month is 0.030509144382604513\n",
      "The profit/loss percentage for last 3 months is 0.0627774351934302\n",
      "The profit/loss percentage for last 6 months is -0.13022601054936392\n",
      "The profit/loss percentage for last 1 year is -0.19234204335873778\n"
     ]
    }
   ],
   "source": [
    "def PL(N):\n",
    "    return pf['Profit/Loss'].iloc[0:N].sum()\n",
    "print(\"The profit/loss percentage for last 1 week is {}\".format(PL(7)))\n",
    "print(\"The profit/loss percentage for last 2 weeks is {}\".format(PL(14)))\n",
    "print(\"The profit/loss percentage for last 1 month is {}\".format(PL(30)))\n",
    "print(\"The profit/loss percentage for last 3 months is {}\".format(PL(90)))\n",
    "print(\"The profit/loss percentage for last 6 months is {}\".format(PL(180)))\n",
    "print(\"The profit/loss percentage for last 1 year is {}\".format(PL(365)))"
   ]
  },
  {
   "cell_type": "markdown",
   "metadata": {},
   "source": [
    "### 1.6 Adding the column 'Day_Perc_Change'"
   ]
  },
  {
   "cell_type": "code",
   "execution_count": 22,
   "metadata": {},
   "outputs": [
    {
     "data": {
      "text/html": [
       "<div>\n",
       "<style scoped>\n",
       "    .dataframe tbody tr th:only-of-type {\n",
       "        vertical-align: middle;\n",
       "    }\n",
       "\n",
       "    .dataframe tbody tr th {\n",
       "        vertical-align: top;\n",
       "    }\n",
       "\n",
       "    .dataframe thead th {\n",
       "        text-align: right;\n",
       "    }\n",
       "</style>\n",
       "<table border=\"1\" class=\"dataframe\">\n",
       "  <thead>\n",
       "    <tr style=\"text-align: right;\">\n",
       "      <th></th>\n",
       "      <th>Date</th>\n",
       "      <th>Close Price</th>\n",
       "      <th>Open Price</th>\n",
       "      <th>High Price</th>\n",
       "      <th>Low Price</th>\n",
       "      <th>Total Traded Quantity</th>\n",
       "      <th>Month</th>\n",
       "      <th>Year</th>\n",
       "      <th>Day_Perc_Change</th>\n",
       "    </tr>\n",
       "  </thead>\n",
       "  <tbody>\n",
       "    <tr>\n",
       "      <td>0</td>\n",
       "      <td>2019-10-24</td>\n",
       "      <td>1780.78</td>\n",
       "      <td>1770.78</td>\n",
       "      <td>1787.97</td>\n",
       "      <td>1760.78</td>\n",
       "      <td>5.20</td>\n",
       "      <td>10</td>\n",
       "      <td>2019</td>\n",
       "      <td>NaN</td>\n",
       "    </tr>\n",
       "    <tr>\n",
       "      <td>1</td>\n",
       "      <td>2019-10-23</td>\n",
       "      <td>1762.17</td>\n",
       "      <td>1761.30</td>\n",
       "      <td>1770.05</td>\n",
       "      <td>1742.00</td>\n",
       "      <td>2.19</td>\n",
       "      <td>10</td>\n",
       "      <td>2019</td>\n",
       "      <td>-0.010450</td>\n",
       "    </tr>\n",
       "    <tr>\n",
       "      <td>2</td>\n",
       "      <td>2019-10-22</td>\n",
       "      <td>1765.73</td>\n",
       "      <td>1788.15</td>\n",
       "      <td>1789.78</td>\n",
       "      <td>1762.00</td>\n",
       "      <td>2.23</td>\n",
       "      <td>10</td>\n",
       "      <td>2019</td>\n",
       "      <td>0.002020</td>\n",
       "    </tr>\n",
       "    <tr>\n",
       "      <td>3</td>\n",
       "      <td>2019-10-21</td>\n",
       "      <td>1785.66</td>\n",
       "      <td>1769.66</td>\n",
       "      <td>1785.88</td>\n",
       "      <td>1765.00</td>\n",
       "      <td>2.22</td>\n",
       "      <td>10</td>\n",
       "      <td>2019</td>\n",
       "      <td>0.011287</td>\n",
       "    </tr>\n",
       "    <tr>\n",
       "      <td>4</td>\n",
       "      <td>2019-10-18</td>\n",
       "      <td>1757.51</td>\n",
       "      <td>1787.80</td>\n",
       "      <td>1793.98</td>\n",
       "      <td>1749.20</td>\n",
       "      <td>3.37</td>\n",
       "      <td>10</td>\n",
       "      <td>2019</td>\n",
       "      <td>-0.015764</td>\n",
       "    </tr>\n",
       "  </tbody>\n",
       "</table>\n",
       "</div>"
      ],
      "text/plain": [
       "        Date  Close Price  Open Price  High Price  Low Price  \\\n",
       "0 2019-10-24      1780.78     1770.78     1787.97    1760.78   \n",
       "1 2019-10-23      1762.17     1761.30     1770.05    1742.00   \n",
       "2 2019-10-22      1765.73     1788.15     1789.78    1762.00   \n",
       "3 2019-10-21      1785.66     1769.66     1785.88    1765.00   \n",
       "4 2019-10-18      1757.51     1787.80     1793.98    1749.20   \n",
       "\n",
       "   Total Traded Quantity  Month  Year  Day_Perc_Change  \n",
       "0                   5.20     10  2019              NaN  \n",
       "1                   2.19     10  2019        -0.010450  \n",
       "2                   2.23     10  2019         0.002020  \n",
       "3                   2.22     10  2019         0.011287  \n",
       "4                   3.37     10  2019        -0.015764  "
      ]
     },
     "execution_count": 22,
     "metadata": {},
     "output_type": "execute_result"
    }
   ],
   "source": [
    "stock['Day_Perc_Change']=stock['Close Price'].pct_change()\n",
    "stock.head()"
   ]
  },
  {
   "cell_type": "code",
   "execution_count": 23,
   "metadata": {},
   "outputs": [],
   "source": [
    "stock.fillna(0,inplace=True)"
   ]
  },
  {
   "cell_type": "code",
   "execution_count": 24,
   "metadata": {},
   "outputs": [
    {
     "data": {
      "text/html": [
       "<div>\n",
       "<style scoped>\n",
       "    .dataframe tbody tr th:only-of-type {\n",
       "        vertical-align: middle;\n",
       "    }\n",
       "\n",
       "    .dataframe tbody tr th {\n",
       "        vertical-align: top;\n",
       "    }\n",
       "\n",
       "    .dataframe thead th {\n",
       "        text-align: right;\n",
       "    }\n",
       "</style>\n",
       "<table border=\"1\" class=\"dataframe\">\n",
       "  <thead>\n",
       "    <tr style=\"text-align: right;\">\n",
       "      <th></th>\n",
       "      <th>Date</th>\n",
       "      <th>Close Price</th>\n",
       "      <th>Open Price</th>\n",
       "      <th>High Price</th>\n",
       "      <th>Low Price</th>\n",
       "      <th>Total Traded Quantity</th>\n",
       "      <th>Month</th>\n",
       "      <th>Year</th>\n",
       "      <th>Day_Perc_Change</th>\n",
       "    </tr>\n",
       "  </thead>\n",
       "  <tbody>\n",
       "    <tr>\n",
       "      <td>0</td>\n",
       "      <td>2019-10-24</td>\n",
       "      <td>1780.78</td>\n",
       "      <td>1770.78</td>\n",
       "      <td>1787.97</td>\n",
       "      <td>1760.78</td>\n",
       "      <td>5.20</td>\n",
       "      <td>10</td>\n",
       "      <td>2019</td>\n",
       "      <td>0.000000</td>\n",
       "    </tr>\n",
       "    <tr>\n",
       "      <td>1</td>\n",
       "      <td>2019-10-23</td>\n",
       "      <td>1762.17</td>\n",
       "      <td>1761.30</td>\n",
       "      <td>1770.05</td>\n",
       "      <td>1742.00</td>\n",
       "      <td>2.19</td>\n",
       "      <td>10</td>\n",
       "      <td>2019</td>\n",
       "      <td>-0.010450</td>\n",
       "    </tr>\n",
       "    <tr>\n",
       "      <td>2</td>\n",
       "      <td>2019-10-22</td>\n",
       "      <td>1765.73</td>\n",
       "      <td>1788.15</td>\n",
       "      <td>1789.78</td>\n",
       "      <td>1762.00</td>\n",
       "      <td>2.23</td>\n",
       "      <td>10</td>\n",
       "      <td>2019</td>\n",
       "      <td>0.002020</td>\n",
       "    </tr>\n",
       "    <tr>\n",
       "      <td>3</td>\n",
       "      <td>2019-10-21</td>\n",
       "      <td>1785.66</td>\n",
       "      <td>1769.66</td>\n",
       "      <td>1785.88</td>\n",
       "      <td>1765.00</td>\n",
       "      <td>2.22</td>\n",
       "      <td>10</td>\n",
       "      <td>2019</td>\n",
       "      <td>0.011287</td>\n",
       "    </tr>\n",
       "    <tr>\n",
       "      <td>4</td>\n",
       "      <td>2019-10-18</td>\n",
       "      <td>1757.51</td>\n",
       "      <td>1787.80</td>\n",
       "      <td>1793.98</td>\n",
       "      <td>1749.20</td>\n",
       "      <td>3.37</td>\n",
       "      <td>10</td>\n",
       "      <td>2019</td>\n",
       "      <td>-0.015764</td>\n",
       "    </tr>\n",
       "  </tbody>\n",
       "</table>\n",
       "</div>"
      ],
      "text/plain": [
       "        Date  Close Price  Open Price  High Price  Low Price  \\\n",
       "0 2019-10-24      1780.78     1770.78     1787.97    1760.78   \n",
       "1 2019-10-23      1762.17     1761.30     1770.05    1742.00   \n",
       "2 2019-10-22      1765.73     1788.15     1789.78    1762.00   \n",
       "3 2019-10-21      1785.66     1769.66     1785.88    1765.00   \n",
       "4 2019-10-18      1757.51     1787.80     1793.98    1749.20   \n",
       "\n",
       "   Total Traded Quantity  Month  Year  Day_Perc_Change  \n",
       "0                   5.20     10  2019         0.000000  \n",
       "1                   2.19     10  2019        -0.010450  \n",
       "2                   2.23     10  2019         0.002020  \n",
       "3                   2.22     10  2019         0.011287  \n",
       "4                   3.37     10  2019        -0.015764  "
      ]
     },
     "execution_count": 24,
     "metadata": {},
     "output_type": "execute_result"
    }
   ],
   "source": [
    "stock.head()"
   ]
  },
  {
   "cell_type": "markdown",
   "metadata": {},
   "source": [
    "### 1.7 Adding column 'Trend'"
   ]
  },
  {
   "cell_type": "code",
   "execution_count": 25,
   "metadata": {},
   "outputs": [],
   "source": [
    "def trend_func(df):\n",
    "    if (df['Day_Perc_Change'] > -0.5) and (df['Day_Perc_Change'] < 0.5):\n",
    "        return 'Slight or No change'\n",
    "    elif (df['Day_Perc_Change'] > 0.5) and (df['Day_Perc_Change'] < 1):\n",
    "        return 'Slight positive'\n",
    "    elif (df['Day_Perc_Change'] < -0.5) and (df['Day_Perc_Change'] > -1):\n",
    "        return 'Slight negative'\n",
    "    elif (df['Day_Perc_Change'] > 1) and (df['Day_Perc_Change'] < 3):\n",
    "        return 'Positive'\n",
    "    elif (df['Day_Perc_Change'] < -1) and (df['Day_Perc_Change'] > -3):\n",
    "        return 'Negative'\n",
    "    elif (df['Day_Perc_Change'] > 3) and (df['Day_Perc_Change'] < 7):\n",
    "        return 'Among top gainers'\n",
    "    elif (df['Day_Perc_Change'] < -3) and (df['Day_Perc_Change'] > -7):\n",
    "        return 'Among top losers'\n",
    "    elif df['Day_Perc_Change'] > 7: \n",
    "        return 'Bull run'\n",
    "    else:\n",
    "        return 'Bear drop'\n",
    "        "
   ]
  },
  {
   "cell_type": "code",
   "execution_count": 26,
   "metadata": {},
   "outputs": [],
   "source": [
    "stock['Trend']=stock.apply(trend_func,axis=1)"
   ]
  },
  {
   "cell_type": "code",
   "execution_count": 27,
   "metadata": {
    "scrolled": true
   },
   "outputs": [
    {
     "data": {
      "text/html": [
       "<div>\n",
       "<style scoped>\n",
       "    .dataframe tbody tr th:only-of-type {\n",
       "        vertical-align: middle;\n",
       "    }\n",
       "\n",
       "    .dataframe tbody tr th {\n",
       "        vertical-align: top;\n",
       "    }\n",
       "\n",
       "    .dataframe thead th {\n",
       "        text-align: right;\n",
       "    }\n",
       "</style>\n",
       "<table border=\"1\" class=\"dataframe\">\n",
       "  <thead>\n",
       "    <tr style=\"text-align: right;\">\n",
       "      <th></th>\n",
       "      <th>Date</th>\n",
       "      <th>Close Price</th>\n",
       "      <th>Open Price</th>\n",
       "      <th>High Price</th>\n",
       "      <th>Low Price</th>\n",
       "      <th>Total Traded Quantity</th>\n",
       "      <th>Month</th>\n",
       "      <th>Year</th>\n",
       "      <th>Day_Perc_Change</th>\n",
       "      <th>Trend</th>\n",
       "    </tr>\n",
       "  </thead>\n",
       "  <tbody>\n",
       "    <tr>\n",
       "      <td>0</td>\n",
       "      <td>2019-10-24</td>\n",
       "      <td>1780.78</td>\n",
       "      <td>1770.78</td>\n",
       "      <td>1787.97</td>\n",
       "      <td>1760.78</td>\n",
       "      <td>5.20</td>\n",
       "      <td>10</td>\n",
       "      <td>2019</td>\n",
       "      <td>0.000000</td>\n",
       "      <td>Slight or No change</td>\n",
       "    </tr>\n",
       "    <tr>\n",
       "      <td>1</td>\n",
       "      <td>2019-10-23</td>\n",
       "      <td>1762.17</td>\n",
       "      <td>1761.30</td>\n",
       "      <td>1770.05</td>\n",
       "      <td>1742.00</td>\n",
       "      <td>2.19</td>\n",
       "      <td>10</td>\n",
       "      <td>2019</td>\n",
       "      <td>-0.010450</td>\n",
       "      <td>Slight or No change</td>\n",
       "    </tr>\n",
       "    <tr>\n",
       "      <td>2</td>\n",
       "      <td>2019-10-22</td>\n",
       "      <td>1765.73</td>\n",
       "      <td>1788.15</td>\n",
       "      <td>1789.78</td>\n",
       "      <td>1762.00</td>\n",
       "      <td>2.23</td>\n",
       "      <td>10</td>\n",
       "      <td>2019</td>\n",
       "      <td>0.002020</td>\n",
       "      <td>Slight or No change</td>\n",
       "    </tr>\n",
       "    <tr>\n",
       "      <td>3</td>\n",
       "      <td>2019-10-21</td>\n",
       "      <td>1785.66</td>\n",
       "      <td>1769.66</td>\n",
       "      <td>1785.88</td>\n",
       "      <td>1765.00</td>\n",
       "      <td>2.22</td>\n",
       "      <td>10</td>\n",
       "      <td>2019</td>\n",
       "      <td>0.011287</td>\n",
       "      <td>Slight or No change</td>\n",
       "    </tr>\n",
       "    <tr>\n",
       "      <td>4</td>\n",
       "      <td>2019-10-18</td>\n",
       "      <td>1757.51</td>\n",
       "      <td>1787.80</td>\n",
       "      <td>1793.98</td>\n",
       "      <td>1749.20</td>\n",
       "      <td>3.37</td>\n",
       "      <td>10</td>\n",
       "      <td>2019</td>\n",
       "      <td>-0.015764</td>\n",
       "      <td>Slight or No change</td>\n",
       "    </tr>\n",
       "  </tbody>\n",
       "</table>\n",
       "</div>"
      ],
      "text/plain": [
       "        Date  Close Price  Open Price  High Price  Low Price  \\\n",
       "0 2019-10-24      1780.78     1770.78     1787.97    1760.78   \n",
       "1 2019-10-23      1762.17     1761.30     1770.05    1742.00   \n",
       "2 2019-10-22      1765.73     1788.15     1789.78    1762.00   \n",
       "3 2019-10-21      1785.66     1769.66     1785.88    1765.00   \n",
       "4 2019-10-18      1757.51     1787.80     1793.98    1749.20   \n",
       "\n",
       "   Total Traded Quantity  Month  Year  Day_Perc_Change                Trend  \n",
       "0                   5.20     10  2019         0.000000  Slight or No change  \n",
       "1                   2.19     10  2019        -0.010450  Slight or No change  \n",
       "2                   2.23     10  2019         0.002020  Slight or No change  \n",
       "3                   2.22     10  2019         0.011287  Slight or No change  \n",
       "4                   3.37     10  2019        -0.015764  Slight or No change  "
      ]
     },
     "execution_count": 27,
     "metadata": {},
     "output_type": "execute_result"
    }
   ],
   "source": [
    "stock.head()"
   ]
  },
  {
   "cell_type": "markdown",
   "metadata": {},
   "source": [
    "### 1.8 Finding average and median values of the column 'Total Trading Quantity'."
   ]
  },
  {
   "cell_type": "code",
   "execution_count": 28,
   "metadata": {},
   "outputs": [
    {
     "name": "stdout",
     "output_type": "stream",
     "text": [
      "Average Trading quantity:\n"
     ]
    },
    {
     "data": {
      "text/plain": [
       "Trend\n",
       "Slight or No change    4.820656\n",
       "Name: Total Traded Quantity, dtype: float64"
      ]
     },
     "execution_count": 28,
     "metadata": {},
     "output_type": "execute_result"
    }
   ],
   "source": [
    "print(\"Average Trading quantity:\")\n",
    "stock.groupby('Trend')['Total Traded Quantity'].mean()"
   ]
  },
  {
   "cell_type": "code",
   "execution_count": 29,
   "metadata": {},
   "outputs": [
    {
     "name": "stdout",
     "output_type": "stream",
     "text": [
      "Median Trading quantity:\n"
     ]
    },
    {
     "data": {
      "text/plain": [
       "Trend\n",
       "Slight or No change    4.27\n",
       "Name: Total Traded Quantity, dtype: float64"
      ]
     },
     "execution_count": 29,
     "metadata": {},
     "output_type": "execute_result"
    }
   ],
   "source": [
    "print(\"Median Trading quantity:\")\n",
    "stock.groupby('Trend')['Total Traded Quantity'].median()"
   ]
  },
  {
   "cell_type": "code",
   "execution_count": 30,
   "metadata": {},
   "outputs": [],
   "source": [
    "stock.to_csv(\"week2.csv\",index = False)"
   ]
  }
 ],
 "metadata": {
  "kernelspec": {
   "display_name": "Python 3",
   "language": "python",
   "name": "python3"
  },
  "language_info": {
   "codemirror_mode": {
    "name": "ipython",
    "version": 3
   },
   "file_extension": ".py",
   "mimetype": "text/x-python",
   "name": "python",
   "nbconvert_exporter": "python",
   "pygments_lexer": "ipython3",
   "version": "3.7.4"
  }
 },
 "nbformat": 4,
 "nbformat_minor": 2
}
